{
  "nbformat": 4,
  "nbformat_minor": 0,
  "metadata": {
    "colab": {
      "provenance": [],
      "collapsed_sections": [
        "2p3TOe5X8izP",
        "lr8Wid_vGaCP",
        "nhNR5iY48ynL"
      ]
    },
    "kernelspec": {
      "name": "python3",
      "display_name": "Python 3"
    },
    "language_info": {
      "name": "python"
    }
  },
  "cells": [
    {
      "cell_type": "markdown",
      "source": [
        "# Creating DATABASE"
      ],
      "metadata": {
        "id": "2p3TOe5X8izP"
      }
    },
    {
      "cell_type": "code",
      "execution_count": 42,
      "metadata": {
        "colab": {
          "base_uri": "https://localhost:8080/"
        },
        "id": "64acGZ57o6lA",
        "outputId": "088a470f-1970-48f9-d30d-c6c6ff5425c2"
      },
      "outputs": [
        {
          "output_type": "stream",
          "name": "stdout",
          "text": [
            "Data from advanced_enhanced_solar_company_data.csv saved to table 'solar_data'.\n",
            "Data from combined_company_statistics.csv saved to table 'combined_statistics'.\n",
            "Data from final_indicators_commodities_macro_data.csv saved to table 'indicators_data'.\n",
            "Data from final_oil_company_data.csv saved to table 'oil_data'.\n",
            "Data from final_wind_company_data.csv saved to table 'wind_data'.\n",
            "All data has been saved to financial_data.db.\n"
          ]
        }
      ],
      "source": [
        "import sqlite3\n",
        "import pandas as pd\n",
        "\n",
        "# Paths to your cleaned CSV files\n",
        "solar_file = \"advanced_enhanced_solar_company_data.csv\"\n",
        "combined_stats_file = \"combined_company_statistics.csv\"\n",
        "indicators_file = \"final_indicators_commodities_macro_data.csv\"\n",
        "oil_file = \"final_oil_company_data.csv\"\n",
        "wind_file = \"final_wind_company_data.csv\"\n",
        "\n",
        "# Create or connect to an SQLite database\n",
        "db_path = \"financial_data.db\"\n",
        "conn = sqlite3.connect(db_path)\n",
        "\n",
        "# Function to save a CSV to an SQLite table\n",
        "def save_to_sqlite(csv_file, table_name, conn):\n",
        "    data = pd.read_csv(csv_file)\n",
        "    data.to_sql(table_name, conn, if_exists='replace', index=False)\n",
        "    print(f\"Data from {csv_file} saved to table '{table_name}'.\")\n",
        "\n",
        "# Save each dataset to its respective table\n",
        "save_to_sqlite(solar_file, \"solar_data\", conn)\n",
        "save_to_sqlite(combined_stats_file, \"combined_statistics\", conn)\n",
        "save_to_sqlite(indicators_file, \"indicators_data\", conn)\n",
        "save_to_sqlite(oil_file, \"oil_data\", conn)\n",
        "save_to_sqlite(wind_file, \"wind_data\", conn)\n",
        "\n",
        "# Close the connection\n",
        "conn.close()\n",
        "print(f\"All data has been saved to {db_path}.\")\n",
        "\n"
      ]
    },
    {
      "cell_type": "code",
      "source": [
        "from google.colab import files\n",
        "files.download(\"financial_data.db\")\n"
      ],
      "metadata": {
        "colab": {
          "base_uri": "https://localhost:8080/",
          "height": 17
        },
        "id": "Fgel2Gc_8x1K",
        "outputId": "155cd672-6cbc-4cfa-998a-9d3df0ec3b63"
      },
      "execution_count": 44,
      "outputs": [
        {
          "output_type": "display_data",
          "data": {
            "text/plain": [
              "<IPython.core.display.Javascript object>"
            ],
            "application/javascript": [
              "\n",
              "    async function download(id, filename, size) {\n",
              "      if (!google.colab.kernel.accessAllowed) {\n",
              "        return;\n",
              "      }\n",
              "      const div = document.createElement('div');\n",
              "      const label = document.createElement('label');\n",
              "      label.textContent = `Downloading \"${filename}\": `;\n",
              "      div.appendChild(label);\n",
              "      const progress = document.createElement('progress');\n",
              "      progress.max = size;\n",
              "      div.appendChild(progress);\n",
              "      document.body.appendChild(div);\n",
              "\n",
              "      const buffers = [];\n",
              "      let downloaded = 0;\n",
              "\n",
              "      const channel = await google.colab.kernel.comms.open(id);\n",
              "      // Send a message to notify the kernel that we're ready.\n",
              "      channel.send({})\n",
              "\n",
              "      for await (const message of channel.messages) {\n",
              "        // Send a message to notify the kernel that we're ready.\n",
              "        channel.send({})\n",
              "        if (message.buffers) {\n",
              "          for (const buffer of message.buffers) {\n",
              "            buffers.push(buffer);\n",
              "            downloaded += buffer.byteLength;\n",
              "            progress.value = downloaded;\n",
              "          }\n",
              "        }\n",
              "      }\n",
              "      const blob = new Blob(buffers, {type: 'application/binary'});\n",
              "      const a = document.createElement('a');\n",
              "      a.href = window.URL.createObjectURL(blob);\n",
              "      a.download = filename;\n",
              "      div.appendChild(a);\n",
              "      a.click();\n",
              "      div.remove();\n",
              "    }\n",
              "  "
            ]
          },
          "metadata": {}
        },
        {
          "output_type": "display_data",
          "data": {
            "text/plain": [
              "<IPython.core.display.Javascript object>"
            ],
            "application/javascript": [
              "download(\"download_bf46d03e-707d-48ec-a159-e97efcbbc0f7\", \"financial_data.db\", 13418496)"
            ]
          },
          "metadata": {}
        }
      ]
    },
    {
      "cell_type": "code",
      "source": [
        "import sqlite3\n",
        "import pandas as pd\n",
        "\n",
        "# Connect to the database\n",
        "conn = sqlite3.connect(\"financial_data.db\")\n",
        "\n",
        "# Query a specific table (example: solar_data)\n",
        "pd.read_sql(\"SELECT * FROM wind_data LIMIT 5;\", conn)\n",
        "\n",
        "pd.read_sql(\"SELECT * FROM wind_data LIMIT 5;\", conn)\n",
        "query = \"SELECT name FROM sqlite_master WHERE type='table';\"\n",
        "tables = pd.read_sql(query, conn)\n",
        "print(\"Available tables:\", tables)\n",
        "\n",
        "# Close the connection\n",
        "conn.close()\n"
      ],
      "metadata": {
        "colab": {
          "base_uri": "https://localhost:8080/"
        },
        "id": "7MWrcWsK9V1S",
        "outputId": "5f5d00bd-6742-4025-eb4b-12d1829b10b3"
      },
      "execution_count": 45,
      "outputs": [
        {
          "output_type": "stream",
          "name": "stdout",
          "text": [
            "Available tables:                   name\n",
            "0           solar_data\n",
            "1  combined_statistics\n",
            "2      indicators_data\n",
            "3             oil_data\n",
            "4            wind_data\n"
          ]
        }
      ]
    },
    {
      "cell_type": "code",
      "source": [
        "# Query to fetch data for 2024-12-20 across all relevant tables\n",
        "query = \"\"\"\n",
        "WITH ranked_data AS (\n",
        "    SELECT\n",
        "        *,\n",
        "        ROW_NUMBER() OVER (PARTITION BY Asset ORDER BY Date DESC) AS row_num\n",
        "    FROM (\n",
        "        SELECT Date, Close, High, Low, Open, Volume, Asset FROM solar_data\n",
        "        UNION ALL\n",
        "        SELECT Date, Close, High, Low, Open, Volume, Asset FROM indicators_data\n",
        "        UNION ALL\n",
        "        SELECT Date, Close, High, Low, Open, Volume, Asset FROM oil_data\n",
        "        UNION ALL\n",
        "        SELECT Date, Close, High, Low, Open, Volume, Asset FROM wind_data\n",
        "    )\n",
        ")\n",
        "SELECT *\n",
        "FROM ranked_data\n",
        "WHERE Date = '2024-12-20';\n",
        "\"\"\"\n",
        "\n",
        "# Connect to the SQLite database\n",
        "conn = sqlite3.connect(\"financial_data.db\")\n",
        "\n",
        "# Execute the query and fetch the data\n",
        "try:\n",
        "    result_df = pd.read_sql(query, conn)\n",
        "    print(\"Data for 2024-12-20 across all relevant tables:\")\n",
        "    print(result_df.head())\n",
        "except Exception as e:\n",
        "    print(f\"Error fetching data for 2024-12-20: {e}\")\n",
        "\n",
        "# Close the database connection\n",
        "conn.close()\n",
        "\n"
      ],
      "metadata": {
        "colab": {
          "base_uri": "https://localhost:8080/"
        },
        "id": "ib4TWgmJ_8ti",
        "outputId": "69bd5ce1-b2f7-47dd-e3c2-de17539f3d47"
      },
      "execution_count": 47,
      "outputs": [
        {
          "output_type": "stream",
          "name": "stdout",
          "text": [
            "Data for 2024-12-20 across all relevant tables:\n",
            "         Date         Close          High           Low          Open  \\\n",
            "0  2024-12-20     28.600000     28.740000     28.139999     28.209999   \n",
            "1  2024-12-20  97755.929688  98098.914062  92175.179688  97484.695312   \n",
            "2  2024-12-20     69.459999     69.849998     68.419998     69.230003   \n",
            "3  2024-12-20     11.500000     11.650000     10.600000     10.670000   \n",
            "4  2024-12-20    142.850006    142.850006    140.550003    140.820007   \n",
            "\n",
            "         Volume    Asset  row_num  \n",
            "0  1.275210e+07       BP        7  \n",
            "1  1.056341e+11  BTC-USD       12  \n",
            "2  2.315920e+05     CL=F        7  \n",
            "3  2.360900e+06     CSIQ        7  \n",
            "4  3.220920e+07      CVX        7  \n"
          ]
        }
      ]
    },
    {
      "cell_type": "markdown",
      "source": [],
      "metadata": {
        "id": "IRJYx6YFGX7D"
      }
    },
    {
      "cell_type": "markdown",
      "source": [
        "# Fetching the Schema of the Database"
      ],
      "metadata": {
        "id": "lr8Wid_vGaCP"
      }
    },
    {
      "cell_type": "code",
      "source": [
        "import sqlite3\n",
        "import pandas as pd\n",
        "\n",
        "# Connect to the SQLite database\n",
        "db_path = \"financial_data.db\"\n",
        "conn = sqlite3.connect(db_path)\n",
        "\n",
        "# Query to list all tables\n",
        "tables_query = \"SELECT name FROM sqlite_master WHERE type='table';\"\n",
        "tables = pd.read_sql(tables_query, conn)\n",
        "\n",
        "print(\"Available tables in the database:\")\n",
        "print(tables)\n",
        "\n",
        "# Loop through each table and fetch its schema\n",
        "print(\"\\nSchema for each table:\")\n",
        "for table in tables['name']:\n",
        "    print(f\"\\nSchema for table: {table}\")\n",
        "    schema_query = f\"PRAGMA table_info({table});\"\n",
        "    schema = pd.read_sql(schema_query, conn)\n",
        "    print(schema)\n",
        "\n",
        "# Close the connection\n",
        "conn.close()\n"
      ],
      "metadata": {
        "colab": {
          "base_uri": "https://localhost:8080/"
        },
        "id": "ht8sGFThGG6R",
        "outputId": "f2a4ea42-3041-416a-c8f7-588645c9e103"
      },
      "execution_count": 48,
      "outputs": [
        {
          "output_type": "stream",
          "name": "stdout",
          "text": [
            "Available tables in the database:\n",
            "                  name\n",
            "0           solar_data\n",
            "1  combined_statistics\n",
            "2      indicators_data\n",
            "3             oil_data\n",
            "4            wind_data\n",
            "\n",
            "Schema for each table:\n",
            "\n",
            "Schema for table: solar_data\n",
            "    cid                name     type  notnull dflt_value  pk\n",
            "0     0                Date     TEXT        0       None   0\n",
            "1     1               Close     REAL        0       None   0\n",
            "2     2                High     REAL        0       None   0\n",
            "3     3                 Low     REAL        0       None   0\n",
            "4     4                Open     REAL        0       None   0\n",
            "5     5              Volume     REAL        0       None   0\n",
            "6     6               Asset     TEXT        0       None   0\n",
            "7     7                Type     TEXT        0       None   0\n",
            "8     8         Daily_Range     REAL        0       None   0\n",
            "9     9    Normalized_Range     REAL        0       None   0\n",
            "10   10        Daily_Return     REAL        0       None   0\n",
            "11   11                MA_7     REAL        0       None   0\n",
            "12   12               MA_30     REAL        0       None   0\n",
            "13   13            Momentum     REAL        0       None   0\n",
            "14   14       Volume_Change     REAL        0       None   0\n",
            "15   15     Volume_to_Price     REAL        0       None   0\n",
            "16   16         Lag_Close_1     REAL        0       None   0\n",
            "17   17         Lag_Close_7     REAL        0       None   0\n",
            "18   18  Weighted_Avg_Price     REAL        0       None   0\n",
            "19   19          Market_WAP     REAL        0       None   0\n",
            "20   20    Market_WAP_MA_30     REAL        0       None   0\n",
            "21   21        Market_Trend     TEXT        0       None   0\n",
            "22   22               EMA_7     REAL        0       None   0\n",
            "23   23              EMA_30     REAL        0       None   0\n",
            "24   24     Bollinger_Upper     REAL        0       None   0\n",
            "25   25     Bollinger_Lower     REAL        0       None   0\n",
            "26   26         Day_of_Week  INTEGER        0       None   0\n",
            "27   27               Month  INTEGER        0       None   0\n",
            "28   28             Quarter  INTEGER        0       None   0\n",
            "29   29   Cumulative_Return     REAL        0       None   0\n",
            "30   30      Trend_Strength     REAL        0       None   0\n",
            "\n",
            "Schema for table: combined_statistics\n",
            "    cid             name  type  notnull dflt_value  pk\n",
            "0     0       Unnamed: 0  TEXT        0       None   0\n",
            "1     1             Mean  REAL        0       None   0\n",
            "2     2           Median  REAL        0       None   0\n",
            "3     3          Std Dev  REAL        0       None   0\n",
            "4     4              Min  REAL        0       None   0\n",
            "5     5              Max  REAL        0       None   0\n",
            "6     6  25th Percentile  REAL        0       None   0\n",
            "7     7  75th Percentile  REAL        0       None   0\n",
            "8     8         Skewness  REAL        0       None   0\n",
            "9     9         Kurtosis  REAL        0       None   0\n",
            "10   10          Company  TEXT        0       None   0\n",
            "\n",
            "Schema for table: indicators_data\n",
            "   cid    name  type  notnull dflt_value  pk\n",
            "0    0    Date  TEXT        0       None   0\n",
            "1    1   Close  REAL        0       None   0\n",
            "2    2    High  REAL        0       None   0\n",
            "3    3     Low  REAL        0       None   0\n",
            "4    4    Open  REAL        0       None   0\n",
            "5    5  Volume  REAL        0       None   0\n",
            "6    6   Asset  TEXT        0       None   0\n",
            "7    7    Type  TEXT        0       None   0\n",
            "\n",
            "Schema for table: oil_data\n",
            "   cid    name  type  notnull dflt_value  pk\n",
            "0    0    Date  TEXT        0       None   0\n",
            "1    1   Close  REAL        0       None   0\n",
            "2    2    High  REAL        0       None   0\n",
            "3    3     Low  REAL        0       None   0\n",
            "4    4    Open  REAL        0       None   0\n",
            "5    5  Volume  REAL        0       None   0\n",
            "6    6   Asset  TEXT        0       None   0\n",
            "7    7    Type  TEXT        0       None   0\n",
            "\n",
            "Schema for table: wind_data\n",
            "   cid    name  type  notnull dflt_value  pk\n",
            "0    0    Date  TEXT        0       None   0\n",
            "1    1   Close  REAL        0       None   0\n",
            "2    2    High  REAL        0       None   0\n",
            "3    3     Low  REAL        0       None   0\n",
            "4    4    Open  REAL        0       None   0\n",
            "5    5  Volume  REAL        0       None   0\n",
            "6    6   Asset  TEXT        0       None   0\n",
            "7    7    Type  TEXT        0       None   0\n"
          ]
        }
      ]
    },
    {
      "cell_type": "code",
      "source": [
        "import sqlite3\n",
        "import pandas as pd\n",
        "\n",
        "# Connect to the SQLite database\n",
        "db_path = \"financial_data.db\"\n",
        "conn = sqlite3.connect(db_path)\n",
        "\n",
        "# Tables to update\n",
        "tables_to_update = [\"solar_data\", \"indicators_data\", \"oil_data\", \"wind_data\"]\n",
        "\n",
        "for table in tables_to_update:\n",
        "    print(f\"Checking original Date values in {table}...\")\n",
        "    try:\n",
        "        # Step 1: Inspect the Date column format\n",
        "        query = f\"SELECT DISTINCT Date FROM {table} LIMIT 5;\"\n",
        "        dates = pd.read_sql(query, conn)\n",
        "        print(f\"Sample Date values in {table}:\\n\", dates)\n",
        "\n",
        "        # Step 2: Convert or standardize the Date format if necessary\n",
        "        if len(str(dates.iloc[0, 0])) == 4:  # If the Date is only YYYY\n",
        "            print(f\"No conversion needed for {table}, Date is already in YEAR format.\")\n",
        "        else:\n",
        "            # Convert numeric YYYYMMDD to YYYY-MM-DD\n",
        "            convert_query = f\"\"\"\n",
        "            CREATE TABLE {table}_temp AS\n",
        "            SELECT\n",
        "                CAST(SUBSTR(Date, 1, 4) || '-' || SUBSTR(Date, 5, 2) || '-' || SUBSTR(Date, 7, 2) AS DATE) AS Date,\n",
        "                Close, High, Low, Open, Volume, Asset, Type\n",
        "            FROM {table};\n",
        "            \"\"\"\n",
        "            conn.execute(convert_query)\n",
        "            conn.execute(f\"DROP TABLE {table};\")\n",
        "            conn.execute(f\"ALTER TABLE {table}_temp RENAME TO {table};\")\n",
        "            print(f\"Date column in {table} converted to DATE format.\")\n",
        "    except Exception as e:\n",
        "        print(f\"Error processing Date column in {table}: {e}\")\n",
        "\n",
        "# Close the connection\n",
        "conn.close()\n",
        "\n"
      ],
      "metadata": {
        "colab": {
          "base_uri": "https://localhost:8080/"
        },
        "id": "C2laJ0G1HOu4",
        "outputId": "9626f7f4-18ff-411c-ff1e-225f37b5cd58"
      },
      "execution_count": 49,
      "outputs": [
        {
          "output_type": "stream",
          "name": "stdout",
          "text": [
            "Checking original Date values in solar_data...\n",
            "Sample Date values in solar_data:\n",
            "          Date\n",
            "0  2015-03-27\n",
            "1  2015-03-30\n",
            "2  2015-03-31\n",
            "3  2015-04-01\n",
            "4  2015-04-02\n",
            "Date column in solar_data converted to DATE format.\n",
            "Checking original Date values in indicators_data...\n",
            "Sample Date values in indicators_data:\n",
            "          Date\n",
            "0  2015-01-02\n",
            "1  2015-01-05\n",
            "2  2015-01-06\n",
            "3  2015-01-07\n",
            "4  2015-01-08\n",
            "Date column in indicators_data converted to DATE format.\n",
            "Checking original Date values in oil_data...\n",
            "Sample Date values in oil_data:\n",
            "          Date\n",
            "0  2015-01-02\n",
            "1  2015-01-05\n",
            "2  2015-01-06\n",
            "3  2015-01-07\n",
            "4  2015-01-08\n",
            "Date column in oil_data converted to DATE format.\n",
            "Checking original Date values in wind_data...\n",
            "Sample Date values in wind_data:\n",
            "          Date\n",
            "0  2015-01-02\n",
            "1  2015-01-05\n",
            "2  2015-01-06\n",
            "3  2015-01-07\n",
            "4  2015-01-08\n",
            "Date column in wind_data converted to DATE format.\n"
          ]
        }
      ]
    },
    {
      "cell_type": "code",
      "source": [
        "import sqlite3\n",
        "import pandas as pd\n",
        "\n",
        "# Connect to the SQLite database\n",
        "db_path = \"financial_data.db\"\n",
        "conn = sqlite3.connect(db_path)\n",
        "\n",
        "# Query to list all tables\n",
        "tables_query = \"SELECT name FROM sqlite_master WHERE type='table';\"\n",
        "tables = pd.read_sql(tables_query, conn)\n",
        "\n",
        "print(\"Available tables in the database:\")\n",
        "print(tables)\n",
        "\n",
        "# Loop through each table and fetch its schema\n",
        "print(\"\\nSchema for each table:\")\n",
        "for table in tables['name']:\n",
        "    print(f\"\\nSchema for table: {table}\")\n",
        "    schema_query = f\"PRAGMA table_info({table});\"\n",
        "    schema = pd.read_sql(schema_query, conn)\n",
        "    print(schema)\n",
        "\n",
        "# Close the connection\n",
        "conn.close()"
      ],
      "metadata": {
        "colab": {
          "base_uri": "https://localhost:8080/"
        },
        "id": "ZMuNRMyTHRTU",
        "outputId": "9d8f0dce-3722-49c3-af9f-5df3c612ebfa"
      },
      "execution_count": 50,
      "outputs": [
        {
          "output_type": "stream",
          "name": "stdout",
          "text": [
            "Available tables in the database:\n",
            "                  name\n",
            "0  combined_statistics\n",
            "1           solar_data\n",
            "2      indicators_data\n",
            "3             oil_data\n",
            "4            wind_data\n",
            "\n",
            "Schema for each table:\n",
            "\n",
            "Schema for table: combined_statistics\n",
            "    cid             name  type  notnull dflt_value  pk\n",
            "0     0       Unnamed: 0  TEXT        0       None   0\n",
            "1     1             Mean  REAL        0       None   0\n",
            "2     2           Median  REAL        0       None   0\n",
            "3     3          Std Dev  REAL        0       None   0\n",
            "4     4              Min  REAL        0       None   0\n",
            "5     5              Max  REAL        0       None   0\n",
            "6     6  25th Percentile  REAL        0       None   0\n",
            "7     7  75th Percentile  REAL        0       None   0\n",
            "8     8         Skewness  REAL        0       None   0\n",
            "9     9         Kurtosis  REAL        0       None   0\n",
            "10   10          Company  TEXT        0       None   0\n",
            "\n",
            "Schema for table: solar_data\n",
            "   cid    name  type  notnull dflt_value  pk\n",
            "0    0    Date   NUM        0       None   0\n",
            "1    1   Close  REAL        0       None   0\n",
            "2    2    High  REAL        0       None   0\n",
            "3    3     Low  REAL        0       None   0\n",
            "4    4    Open  REAL        0       None   0\n",
            "5    5  Volume  REAL        0       None   0\n",
            "6    6   Asset  TEXT        0       None   0\n",
            "7    7    Type  TEXT        0       None   0\n",
            "\n",
            "Schema for table: indicators_data\n",
            "   cid    name  type  notnull dflt_value  pk\n",
            "0    0    Date   NUM        0       None   0\n",
            "1    1   Close  REAL        0       None   0\n",
            "2    2    High  REAL        0       None   0\n",
            "3    3     Low  REAL        0       None   0\n",
            "4    4    Open  REAL        0       None   0\n",
            "5    5  Volume  REAL        0       None   0\n",
            "6    6   Asset  TEXT        0       None   0\n",
            "7    7    Type  TEXT        0       None   0\n",
            "\n",
            "Schema for table: oil_data\n",
            "   cid    name  type  notnull dflt_value  pk\n",
            "0    0    Date   NUM        0       None   0\n",
            "1    1   Close  REAL        0       None   0\n",
            "2    2    High  REAL        0       None   0\n",
            "3    3     Low  REAL        0       None   0\n",
            "4    4    Open  REAL        0       None   0\n",
            "5    5  Volume  REAL        0       None   0\n",
            "6    6   Asset  TEXT        0       None   0\n",
            "7    7    Type  TEXT        0       None   0\n",
            "\n",
            "Schema for table: wind_data\n",
            "   cid    name  type  notnull dflt_value  pk\n",
            "0    0    Date   NUM        0       None   0\n",
            "1    1   Close  REAL        0       None   0\n",
            "2    2    High  REAL        0       None   0\n",
            "3    3     Low  REAL        0       None   0\n",
            "4    4    Open  REAL        0       None   0\n",
            "5    5  Volume  REAL        0       None   0\n",
            "6    6   Asset  TEXT        0       None   0\n",
            "7    7    Type  TEXT        0       None   0\n"
          ]
        }
      ]
    },
    {
      "cell_type": "markdown",
      "source": [
        "# Creating Datasets in Excel with Multiple Sheets for The Tableau"
      ],
      "metadata": {
        "id": "nhNR5iY48ynL"
      }
    },
    {
      "cell_type": "code",
      "source": [
        "import sqlite3\n",
        "import pandas as pd\n",
        "\n",
        "# Connect to the SQLite database\n",
        "db_path = \"financial_data.db\"\n",
        "conn = sqlite3.connect(db_path)\n",
        "\n",
        "# List of tables to export to Excel\n",
        "tables_to_export = [\"solar_data\", \"indicators_data\", \"oil_data\", \"wind_data\"]\n",
        "\n",
        "# Output Excel file\n",
        "output_excel_path = \"Financial_Data.xlsx\"\n",
        "\n",
        "# Create an Excel writer\n",
        "with pd.ExcelWriter(output_excel_path) as writer:\n",
        "    for table in tables_to_export:\n",
        "        print(f\"Exporting {table} to Excel sheet...\")\n",
        "        # Read data from the table\n",
        "        query = f\"SELECT * FROM {table};\"\n",
        "        data = pd.read_sql(query, conn)\n",
        "        # Write data to a sheet in the Excel file\n",
        "        data.to_excel(writer, sheet_name=table, index=False)\n",
        "\n",
        "# Close the connection\n",
        "conn.close()\n",
        "print(f\"Excel file created: {output_excel_path}\")\n"
      ],
      "metadata": {
        "colab": {
          "base_uri": "https://localhost:8080/"
        },
        "id": "CIzJUyL5_elG",
        "outputId": "4ada42a6-c06c-4d32-e1ab-92d599ef6a69"
      },
      "execution_count": 51,
      "outputs": [
        {
          "output_type": "stream",
          "name": "stdout",
          "text": [
            "Exporting solar_data to Excel sheet...\n",
            "Exporting indicators_data to Excel sheet...\n",
            "Exporting oil_data to Excel sheet...\n",
            "Exporting wind_data to Excel sheet...\n",
            "Excel file created: Financial_Data.xlsx\n"
          ]
        }
      ]
    }
  ]
}