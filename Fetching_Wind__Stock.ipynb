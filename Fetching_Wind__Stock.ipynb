{
  "nbformat": 4,
  "nbformat_minor": 0,
  "metadata": {
    "colab": {
      "provenance": []
    },
    "kernelspec": {
      "name": "python3",
      "display_name": "Python 3"
    },
    "language_info": {
      "name": "python"
    }
  },
  "cells": [
    {
      "cell_type": "code",
      "execution_count": 1,
      "metadata": {
        "colab": {
          "base_uri": "https://localhost:8080/"
        },
        "id": "J0YeRMp6iD8Q",
        "outputId": "1f9da247-dcdf-4574-981c-0c9eb2c053d5"
      },
      "outputs": [
        {
          "output_type": "stream",
          "name": "stdout",
          "text": [
            "Fetching wind company data...\n",
            "Fetching data for VWS.CO (Attempt 1)...\n",
            "Data for VWS.CO fetched successfully.\n",
            "Fetching data for NEO.TO (Attempt 1)...\n",
            "Data for NEO.TO fetched successfully.\n",
            "Fetching data for TPIC (Attempt 1)...\n",
            "Data for TPIC fetched successfully.\n",
            "Fetching data for ORK.OL (Attempt 1)...\n",
            "Data for ORK.OL fetched successfully.\n",
            "Wind company data saved as 'wind_company_data.csv'.\n"
          ]
        }
      ],
      "source": [
        "import yfinance as yf\n",
        "import pandas as pd\n",
        "import time\n",
        "\n",
        "# Define wind companies\n",
        "wind_companies = ['VWS.CO', 'NEO.TO', 'TPIC', 'ORK.OL']  # Vestas, Neoen, TPI Composites, Orkla\n",
        "\n",
        "# Function to fetch data with retries\n",
        "def fetch_data(assets, start, end, retries=3):\n",
        "    valid_data = []\n",
        "    invalid_assets = {}\n",
        "\n",
        "    for asset in assets:\n",
        "        for attempt in range(retries):\n",
        "            try:\n",
        "                print(f\"Fetching data for {asset} (Attempt {attempt + 1})...\")\n",
        "                data = yf.download(asset, start=start, end=end, progress=False)\n",
        "                if not data.empty:\n",
        "                    print(f\"Data for {asset} fetched successfully.\")\n",
        "                    data['Asset'] = asset\n",
        "                    valid_data.append(data)\n",
        "                    break\n",
        "                else:\n",
        "                    print(f\"Data for {asset} is empty. Retrying...\")\n",
        "            except Exception as e:\n",
        "                print(f\"Error fetching data for {asset}: {e}\")\n",
        "                if attempt == retries - 1:\n",
        "                    invalid_assets[asset] = str(e)\n",
        "                time.sleep(2)  # Wait before retrying\n",
        "\n",
        "    return valid_data, invalid_assets\n",
        "\n",
        "# Fetch wind company data\n",
        "print(\"Fetching wind company data...\")\n",
        "wind_data, invalid_wind = fetch_data(wind_companies, start=\"2015-01-01\", end=\"2025-01-01\")\n",
        "if wind_data:\n",
        "    wind_df = pd.concat(wind_data).reset_index()\n",
        "    wind_df.to_csv(\"wind_company_data.csv\", index=False)\n",
        "    print(\"Wind company data saved as 'wind_company_data.csv'.\")\n",
        "else:\n",
        "    print(\"No valid wind company data fetched.\")\n",
        "\n",
        "# Log invalid fetches\n",
        "if invalid_wind:\n",
        "    with open(\"invalid_wind_assets_log.txt\", \"w\") as log_file:\n",
        "        log_file.write(\"Invalid Wind Companies:\\n\")\n",
        "        for stock, reason in invalid_wind.items():\n",
        "            log_file.write(f\"{stock}: {reason}\\n\")\n",
        "    print(\"Invalid wind company data logged.\")\n"
      ]
    },
    {
      "cell_type": "code",
      "source": [],
      "metadata": {
        "id": "udpCxICxiML4"
      },
      "execution_count": null,
      "outputs": []
    },
    {
      "cell_type": "code",
      "source": [
        "import pandas as pd\n",
        "\n",
        "# Load the dataset\n",
        "file_path = \"wind_company_data.csv\"\n",
        "data = pd.read_csv(file_path)\n",
        "\n",
        "# Step 1: Drop metadata row\n",
        "data = data.iloc[1:].reset_index(drop=True)\n",
        "\n",
        "# Step 2: Clean column names\n",
        "data.columns = [col.replace('.', '_') for col in data.columns]\n",
        "\n",
        "# Step 3: Restructure dataset\n",
        "wind_companies = ['VWS.CO', 'NEO.TO', 'TPIC', 'ORK.OL']\n",
        "long_data = pd.DataFrame()\n",
        "\n",
        "# Process the first company (base columns)\n",
        "base_columns = ['Close', 'High', 'Low', 'Open', 'Volume']\n",
        "temp = data[['Date'] + base_columns].copy()\n",
        "temp.columns = ['Date', 'Close', 'High', 'Low', 'Open', 'Volume']\n",
        "temp['Asset'] = 'VWS.CO'  # Assuming VWS.CO as the first company\n",
        "temp['Type'] = 'Wind'\n",
        "long_data = pd.concat([long_data, temp], ignore_index=True)\n",
        "\n",
        "# Process other companies\n",
        "for i, company in enumerate(wind_companies[1:]):  # Skip VWS.CO as it was already processed\n",
        "    company_columns = [f'{col}_{i+1}' for col in base_columns if f'{col}_{i+1}' in data.columns]\n",
        "    if company_columns:\n",
        "        temp = data[['Date'] + company_columns].copy()\n",
        "        temp.columns = ['Date', 'Close', 'High', 'Low', 'Open', 'Volume']\n",
        "        temp['Asset'] = company\n",
        "        temp['Type'] = 'Wind'\n",
        "        long_data = pd.concat([long_data, temp], ignore_index=True)\n",
        "\n",
        "# Step 4: Convert data types\n",
        "long_data['Date'] = pd.to_datetime(long_data['Date'], errors='coerce')\n",
        "numeric_cols = ['Close', 'High', 'Low', 'Open', 'Volume']\n",
        "for col in numeric_cols:\n",
        "    long_data[col] = pd.to_numeric(long_data[col], errors='coerce')\n",
        "\n",
        "# Step 5: Filter rows with missing numeric data\n",
        "long_data = long_data.dropna(subset=numeric_cols, how='all')\n",
        "\n",
        "# Step 6: Save cleaned dataset\n",
        "output_path = \"final_wind_company_data.csv\"\n",
        "long_data.to_csv(output_path, index=False)\n",
        "print(f\"Final cleaned data saved to {output_path}\")\n",
        "\n",
        "# Display dataset summary\n",
        "print(long_data.info())\n",
        "print(long_data.head())\n"
      ],
      "metadata": {
        "colab": {
          "base_uri": "https://localhost:8080/"
        },
        "id": "xKLlUs0Qipf0",
        "outputId": "cf47beb4-47a2-487e-fe0c-ce6147b71c33"
      },
      "execution_count": 2,
      "outputs": [
        {
          "output_type": "stream",
          "name": "stdout",
          "text": [
            "Final cleaned data saved to final_wind_company_data.csv\n",
            "<class 'pandas.core.frame.DataFrame'>\n",
            "Index: 8909 entries, 0 to 35635\n",
            "Data columns (total 8 columns):\n",
            " #   Column  Non-Null Count  Dtype         \n",
            "---  ------  --------------  -----         \n",
            " 0   Date    8909 non-null   datetime64[ns]\n",
            " 1   Close   8909 non-null   float64       \n",
            " 2   High    8909 non-null   float64       \n",
            " 3   Low     8909 non-null   float64       \n",
            " 4   Open    8909 non-null   float64       \n",
            " 5   Volume  8909 non-null   float64       \n",
            " 6   Asset   8909 non-null   object        \n",
            " 7   Type    8909 non-null   object        \n",
            "dtypes: datetime64[ns](1), float64(5), object(2)\n",
            "memory usage: 626.4+ KB\n",
            "None\n",
            "        Date      Close       High        Low       Open      Volume   Asset  \\\n",
            "0 2015-01-02  43.511150  43.764335  41.775046  42.136733  14235455.0  VWS.CO   \n",
            "1 2015-01-05  43.022873  44.288781  42.842028  43.493065  13117040.0  VWS.CO   \n",
            "2 2015-01-06  45.012157  45.193002  42.028226  42.661182  17033090.0  VWS.CO   \n",
            "3 2015-01-07  42.697357  44.921742  42.588848  44.487716  20339095.0  VWS.CO   \n",
            "4 2015-01-08  43.040958  43.583494  42.715441  43.366479  13036765.0  VWS.CO   \n",
            "\n",
            "   Type  \n",
            "0  Wind  \n",
            "1  Wind  \n",
            "2  Wind  \n",
            "3  Wind  \n",
            "4  Wind  \n"
          ]
        }
      ]
    }
  ]
}